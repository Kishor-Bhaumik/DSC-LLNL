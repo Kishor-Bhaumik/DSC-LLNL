{
 "cells": [
  {
   "cell_type": "markdown",
   "metadata": {},
   "source": [
    "# Understanding Loops in Programming\n",
    "\n",
    "Loops are fundamental programming constructs that allow you to execute a block of code repeatedly. This process of repetition is known as **iteration**. Each time the statements within the loop are executed, it's referred to as a **pass** or an **iteration**.\n",
    "\n",
    "There are two primary types of loops:\n",
    "\n",
    "* **Definite Iteration:** These loops repeat an action a predefined number of times.\n",
    "* **Indefinite Iteration:** These loops perform an action until the program determines it needs to stop, based on a condition."
   ]
  },
  {
   "cell_type": "markdown",
   "metadata": {},
   "source": [
    "## Definite Iteration: The `for` Loop\n",
    "\n",
    "The `for` loop is an example of **definite iteration**. It's used when you want to repeat a task a given number of times or to loop through every item in a sequence like a list or a string."
   ]
  },
  {
   "cell_type": "markdown",
   "metadata": {},
   "source": [
    "## The `range()` Function\n",
    "\n",
    "The `range()` function is a built-in Python function commonly used with `for` loops to generate a sequence of numbers. It can be used in a few ways:\n",
    "\n",
    "* `range(stop)`: Generates numbers starting from 0 up to (but not including) `stop`. The step defaults to 1.\n",
    "* `range(startIndex, endIndex)`: Generates numbers starting from `startIndex` up to (but not including) `endIndex`. The step defaults to 1.\n",
    "* `range(startIndex, endIndex, step)`: Generates numbers starting from `startIndex`, up to (but not including) `endIndex`, with a specified `step`."
   ]
  },
  {
   "cell_type": "code",
   "execution_count": null,
   "metadata": {},
   "outputs": [],
   "source": [
    "# Examples of range()\n",
    "print(\"range(10):\", list(range(10)))  # [0, 1, 2, 3, 4, 5, 6, 7, 8, 9]\n",
    "print(\"range(1, 8):\", list(range(1, 8)))  # [1, 2, 3, 4, 5, 6, 7]\n",
    "print(\"range(0, 20, 5):\", list(range(0, 20, 5)))  # [0, 5, 10, 15]\n",
    "print(\"range(20, 0, -5):\", list(range(20, 0, -5)))  # [20, 15, 10, 5]\n",
    "print(\"range(-10, 5, 5):\", list(range(-10, 5, 5)))  # [-10, -5, 0]\n",
    "print(\"range(0, -10):\", list(range(0, -10)))  # []"
   ]
  },
  {
   "cell_type": "markdown",
   "metadata": {},
   "source": [
    "## `for` Loop Examples\n",
    "\n",
    "Here are various examples demonstrating the use of `for` loops."
   ]
  },
  {
   "cell_type": "code",
   "execution_count": null,
   "metadata": {},
   "outputs": [],
   "source": [
    "# Example 1: Looping through a list of strings\n",
    "L = [\"John\", \"Mary\", \"Audrey\"]\n",
    "for item in L:\n",
    "    print(item)"
   ]
  },
  {
   "cell_type": "code",
   "execution_count": null,
   "metadata": {},
   "outputs": [],
   "source": [
    "# Example 2: Calculating sum of numbers in a list\n",
    "L = [1, 2, 3, 4, 5]\n",
    "total = 0\n",
    "for item in L:\n",
    "    total = total + item\n",
    "print(total)"
   ]
  },
  {
   "cell_type": "code",
   "execution_count": null,
   "metadata": {},
   "outputs": [],
   "source": [
    "# Example 3: Launch count-up\n",
    "# Start count at 1 and go to 10\n",
    "for index in range(1, 11, 1):\n",
    "    print(index)\n",
    "print(\"Lift off!\")"
   ]
  },
  {
   "cell_type": "code",
   "execution_count": null,
   "metadata": {},
   "outputs": [],
   "source": [
    "# Example 4: Launch count-down\n",
    "# Start count at 10 and go down to zero\n",
    "print(\"Begin count-down. Launch in...\")\n",
    "for index in range(10, 0, -1):\n",
    "    print(index)\n",
    "print(\"Lift off !!\")"
   ]
  },
  {
   "cell_type": "code",
   "execution_count": null,
   "metadata": {},
   "outputs": [],
   "source": [
    "# Example 5: Factorial using count-up range()\n",
    "# e.g., 6! = 6 * 5 * 4 * 3 * 2 * 1\n",
    "n = int(input(\"Enter a number: \"))\n",
    "factorial = 1\n",
    "for index in range(1, n + 1, 1):  # Starts at 1 and counts up to n+1\n",
    "    factorial = factorial * index\n",
    "print(f\"The factorial of {n} is {factorial}\")"
   ]
  },
  {
   "cell_type": "code",
   "execution_count": null,
   "metadata": {},
   "outputs": [],
   "source": [
    "# Example 6: Factorial using count-down range()\n",
    "# e.g., 6! = 6 * 5 * 4 * 3 * 2 * 1\n",
    "n = int(input(\"Enter a number: \"))\n",
    "factorial = 1\n",
    "for index in range(n, 0, -1):  # Starts at n and counts down to 0\n",
    "    factorial = factorial * index\n",
    "print(f\"The factorial of {n} is {factorial}\")"
   ]
  },
  {
   "cell_type": "code",
   "execution_count": null,
   "metadata": {},
   "outputs": [],
   "source": [
    "# Example 7: Printing even numbers (Method 1 - using if condition)\n",
    "# Print all even numbers between 1 and 20, including 20.\n",
    "print(\"Even numbers (Method 1):\")\n",
    "for i in range(2, 20 + 1, 1):\n",
    "    if i % 2 == 0:\n",
    "        print(i)"
   ]
  },
  {
   "cell_type": "code",
   "execution_count": null,
   "metadata": {},
   "outputs": [],
   "source": [
    "# Example 8: Printing even numbers (Method 2 - using step in range)\n",
    "print(\"Even numbers (Method 2):\")\n",
    "for i in range(2, 20 + 1, 2):\n",
    "    print(i)"
   ]
  },
  {
   "cell_type": "code",
   "execution_count": null,
   "metadata": {},
   "outputs": [],
   "source": [
    "# Example 9: Traversing a string\n",
    "# Print each letter of a given string on a new line.\n",
    "s = \"Hello World\"\n",
    "for index in range(0, len(s)):\n",
    "    print(s[index])\n",
    "\n",
    "# Remember:\n",
    "# - We can get a given character in a string using []\n",
    "# - Strings are 0-indexed (counting starts at 0)"
   ]
  },
  {
   "cell_type": "code",
   "execution_count": null,
   "metadata": {},
   "outputs": [],
   "source": [
    "# Example 10: Reversing a string\n",
    "# Reverse the characters in a string.\n",
    "s = \"Hello World\"\n",
    "reversedStr = \"\"\n",
    "for i in range(len(s) - 1, -1, -1):\n",
    "    reversedStr += s[i]  # shortcut\n",
    "    # reversedStr = reversedStr + s[i]  # traditional\n",
    "print(reversedStr)"
   ]
  },
  {
   "cell_type": "markdown",
   "metadata": {},
   "source": [
    "## Indefinite Iteration: The `while` Loop\n",
    "\n",
    "Unlike the `for` loop, which is a **definite loop** that runs a fixed number of times, the `while` loop is an **indefinite loop**. This means it continues to run as long as a specified boolean condition remains true. The loop will terminate when the boolean expression evaluates to `false`."
   ]
  },
  {
   "cell_type": "markdown",
   "metadata": {},
   "source": [
    "## `while` Loop Examples\n",
    "\n",
    "Let's see how `while` loops work with some examples, and compare them to `for` loops where appropriate."
   ]
  },
  {
   "cell_type": "code",
   "execution_count": null,
   "metadata": {},
   "outputs": [],
   "source": [
    "# Example 1: Counting from 0 to 10\n",
    "# For loop example:\n",
    "print(\"For loop example (0-10):\")\n",
    "for i in range(0, 10 + 1):\n",
    "    print(i)\n",
    "\n",
    "# While loop example:\n",
    "print(\"\\nWhile loop example (0-10):\")\n",
    "i = 0\n",
    "while i <= 10:\n",
    "    print(i)\n",
    "    i = i + 1"
   ]
  },
  {
   "cell_type": "code",
   "execution_count": null,
   "metadata": {},
   "outputs": [],
   "source": [
    "# Example 2: Traversing a string\n",
    "# Print out a given string such that each letter is on a new line.\n",
    "\n",
    "# For loop example:\n",
    "print(\"For loop example (string traversal):\")\n",
    "s = \"Hello World\"\n",
    "for index in range(0, len(s)):\n",
    "    print(s[index])\n",
    "\n",
    "# While loop example:\n",
    "print(\"\\nWhile loop example (string traversal):\")\n",
    "s = \"Hello World\"\n",
    "index = 0\n",
    "while index < len(s):\n",
    "    print(s[index])\n",
    "    index += 1  # Short-cut for index = index + 1"
   ]
  },
  {
   "cell_type": "markdown",
   "metadata": {},
   "source": [
    "## Why Use `while` Loops?\n",
    "\n",
    "As seen in the previous examples, sometimes both `for` and `while` loops can accomplish the same task. However, `while` loops are particularly useful in scenarios where the number of iterations is **not known beforehand**. They excel at continuing iteration until a specific condition becomes false."
   ]
  },
  {
   "cell_type": "markdown",
   "metadata": {},
   "source": [
    "## Practical `while` Loop Examples\n",
    "\n",
    "These examples highlight situations where a `while` loop is a more natural or necessary choice."
   ]
  },
  {
   "cell_type": "code",
   "execution_count": null,
   "metadata": {},
   "outputs": [],
   "source": [
    "# Example 1: Magic 8 Ball\n",
    "# This program continues to ask questions until the user presses enter without typing a question.\n",
    "import random  # has functions to generate random num\n",
    "\n",
    "print(\"Ask the Magic 8 Ball!\")\n",
    "question = input(\"Ask the magic 8 ball: (press enter to quit) \")\n",
    "while question != \"\":\n",
    "    answers = random.randint(1, 4)  # number between 1 and 4\n",
    "    if answers == 1:\n",
    "        print(\"It is certain\")\n",
    "    elif answers == 2:\n",
    "        print(\"Outlook is good\")\n",
    "    elif answers == 3:\n",
    "        print(\"Ask again later\")\n",
    "    elif answers == 4:\n",
    "        print(\"My sources say no\")\n",
    "    question = input(\"Ask the magic 8 ball: (press enter to quit) \")"
   ]
  },
  {
   "cell_type": "code",
   "execution_count": null,
   "metadata": {},
   "outputs": [],
   "source": [
    "# Example 2: Password Input (Method 1 - condition in while statement)\n",
    "# Ask user for a 4-digit passcode, until they enter exactly 4 characters.\n",
    "s = input(\"Enter a 4-digit passcode: \")\n",
    "while len(s) != 4:\n",
    "    s = input(\"Enter a 4-digit passcode: \")"
   ]
  },
  {
   "cell_type": "code",
   "execution_count": null,
   "metadata": {},
   "outputs": [],
   "source": [
    "# Example 3: Password Input (Method 2 - using `break`)\n",
    "# Another way to write the passcode validation code, using `while True` and `break`.\n",
    "\n",
    "while True:\n",
    "    s = input(\"Enter a 4-digit passcode: \")\n",
    "    if len(s) == 4:\n",
    "        break  # If condition is true, break out of loop.\n",
    "print(\"Passcode accepted!\")"
   ]
  },
  {
   "cell_type": "markdown",
   "metadata": {},
   "source": [
    "## Practice Exercises\n",
    "\n",
    "Try these exercises to practice your loop skills!"
   ]
  },
  {
   "cell_type": "code",
   "execution_count": null,
   "metadata": {},
   "outputs": [],
   "source": [
    "# Exercise 1: Create a simple pattern\n",
    "# Use a for loop to print this pattern:\n",
    "# *\n",
    "# **\n",
    "# ***\n",
    "# ****\n",
    "# *****\n",
    "\n",
    "# Your code here:"
   ]
  },
  {
   "cell_type": "code",
   "execution_count": null,
   "metadata": {},
   "outputs": [],
   "source": [
    "# Exercise 2: Count vowels in a string\n",
    "# Write code to count how many vowels (a, e, i, o, u) are in a given string\n",
    "\n",
    "text = \"Hello World\"\n",
    "# Your code here:"
   ]
  },
  {
   "cell_type": "code",
   "execution_count": null,
   "metadata": {},
   "outputs": [],
   "source": [
    "# Exercise 3: Multiplication table\n",
    "# Create a multiplication table for a given number (let's say 7)\n",
    "# Output should be: 7 x 1 = 7, 7 x 2 = 14, etc. up to 7 x 10 = 70\n",
    "\n",
    "# Your code here:"
   ]
  }
 ],
 "metadata": {
  "kernelspec": {
   "display_name": "base",
   "language": "python",
   "name": "python3"
  },
  "language_info": {
   "codemirror_mode": {
    "name": "ipython",
    "version": 3
   },
   "file_extension": ".py",
   "mimetype": "text/x-python",
   "name": "python",
   "nbconvert_exporter": "python",
   "pygments_lexer": "ipython3",
   "version": "3.12.7"
  }
 },
 "nbformat": 4,
 "nbformat_minor": 4
}
